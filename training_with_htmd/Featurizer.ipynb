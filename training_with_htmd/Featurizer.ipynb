{
 "cells": [
  {
   "cell_type": "code",
   "execution_count": 1,
   "id": "wrong-dietary",
   "metadata": {},
   "outputs": [],
   "source": [
    "import sys\n",
    "sys.path.insert(1, \"/Users/abdulsalamyazid/Desktop/Copy/training_with_htmd/htmd\")"
   ]
  },
  {
   "cell_type": "code",
   "execution_count": 4,
   "id": "durable-indie",
   "metadata": {},
   "outputs": [],
   "source": [
    "import moleculekit.molecule as mdd\n",
    "import htmd.molecule.voxeldescriptors as vd\n",
    "import csv\n",
    "from tqdm import *\n",
    "import os\n",
    "import pickle\n",
    "import numpy as np"
   ]
  },
  {
   "cell_type": "code",
   "execution_count": 5,
   "id": "failing-montreal",
   "metadata": {},
   "outputs": [],
   "source": [
    "import moleculekit.molecule as ht\n",
    "import htmd.molecule.voxeldescriptors as vd\n",
    "import csv\n",
    "from tqdm import *\n",
    "import os\n",
    "import pickle\n",
    "import numpy as np\n",
    "import multiprocessing as mp\n",
    "from sklearn.model_selection import train_test_split\n",
    "import h5py\n",
    "from oddt import toolkit\n",
    "from oddt import datasets\n",
    "\n",
    "# Directory paths\n",
    "data_dir = \"../dataset\"\n",
    "pdbbind_dir = os.path.join(data_dir, \"refined-set-2016/\")\n",
    "pdbbind_dataset = datasets.pdbbind(home=pdbbind_dir, default_set='refined', version=2016)"
   ]
  },
  {
   "cell_type": "code",
   "execution_count": 6,
   "id": "answering-conversation",
   "metadata": {},
   "outputs": [],
   "source": [
    "def get_pdb_complex_feature(protein_file, ligand_file):\n",
    "    \"\"\" Returns voxel features for a pdb complex \"\"\"\n",
    "\n",
    "    def get_prop(mol, left_most_point):\n",
    "        \"\"\" Returns atom occupancies \"\"\"\n",
    "        n = [24, 24, 24] # Voxel size\n",
    "        \n",
    "        # Get the channels\n",
    "        channels = vd._getAtomtypePropertiesPDBQT(mol)\n",
    "        sigmas = vd._getRadii(mol)\n",
    "        channels = sigmas[:, np.newaxis] * channels.astype(float)\n",
    "        \n",
    "        # Choose the grid centers\n",
    "        centers = vd._getGridCenters(llc=left_most_point, N=n, resolution=1)\n",
    "        centers = centers.reshape(np.prod(n), 3)\n",
    "        \n",
    "        # Extract the features and return\n",
    "        features = vd._getOccupancyC(mol.coords[:, :, mol.frame], centers, channels)\n",
    "        return features.reshape(*n, -1)\n",
    "    \n",
    "    # Generate the HTMD Molecule objects\n",
    "    protein_mol = ht.Molecule(protein_file)\n",
    "    ligand_mol = ht.Molecule(ligand_file)\n",
    "    \n",
    "    # Find the left most point. Half of the voxel's length is subtracted from the center of the ligand\n",
    "    left_most_point = list(np.mean(ligand_mol.coords.reshape(-1, 3), axis=0) - 12.0)    \n",
    "    \n",
    "    # Get the features for both the protein and the ligand. Return those after concatenation.\n",
    "    protein_featuers = get_prop(protein_mol, left_most_point)\n",
    "    ligand_features = get_prop(ligand_mol, left_most_point)\n",
    "    \n",
    "    return np.concatenate((protein_featuers, ligand_features), axis=3)\n",
    "\n",
    "\n",
    "def get_pdb_features(ids, sets=\"refined\"):\n",
    "    \"\"\" Returns features for given pdb ids\"\"\"\n",
    "    pdb_ids = []\n",
    "    pdb_features = []\n",
    "\n",
    "    for pdbid in tqdm(ids):\n",
    "        protein_file = os.path.join(pdbbind_dir, pdbid, pdbid + \"_protein.pdbqt\")\n",
    "        ligand_file = os.path.join(pdbbind_dir, pdbid, pdbid + \"_ligand.pdbqt\")\n",
    "        if not os.path.isfile(protein_file) or not os.path.isfile(ligand_file): continue\n",
    "\n",
    "        try:\n",
    "            features = get_pdb_complex_feature(protein_file, ligand_file)\n",
    "        except Exception as e:\n",
    "            #print(\"ERROR in \", pdbid , \" \", str(e))\n",
    "            continue\n",
    "\n",
    "        pdb_ids.append(pdbid)\n",
    "        pdb_features.append(features)\n",
    "    \n",
    "    # Convert the list of features as numpy array and return\n",
    "    data_x = np.array(pdb_features, dtype=np.float32)\n",
    "    data_y = np.array([pdbbind_dataset.sets[sets][_id] for _id in pdb_ids], dtype=np.float32)\n",
    "\n",
    "    return data_x, data_y\n",
    "\n",
    "\n",
    "def get_features():\n",
    "    \"\"\" Returns features for all the complexes in the dataset. \"\"\" \n",
    "    # List ids in the core set\n",
    "    core_ids = list(pdbbind_dataset.sets['core'].keys())\n",
    "    # List ids in the refined set\n",
    "    refined_ids = list(pdbbind_dataset.sets['refined'].keys()) \n",
    "    # remove core ids from the refined set.\n",
    "    refined_ids = [i for i in refined_ids if i not in core_ids]\n",
    "    \n",
    "    # Get the features \n",
    "    print(\"Extracting features for the core set\")\n",
    "    core_x, core_y = get_pdb_features(core_ids, sets=\"core\")\n",
    "    print(\"Extracting features for the refined set\")\n",
    "    refined_x, refined_y = get_pdb_features(refined_ids)    \n",
    "    \n",
    "    return core_x, core_y, refined_x, refined_y"
   ]
  },
  {
   "cell_type": "code",
   "execution_count": 7,
   "id": "removable-looking",
   "metadata": {},
   "outputs": [
    {
     "name": "stderr",
     "output_type": "stream",
     "text": [
      "\r",
      "  0%|          | 0/290 [00:00<?, ?it/s]"
     ]
    },
    {
     "name": "stdout",
     "output_type": "stream",
     "text": [
      "Extracting features for the core set\n"
     ]
    },
    {
     "name": "stderr",
     "output_type": "stream",
     "text": [
      "2021-02-18 12:24:19,492 - moleculekit.readers - WARNING - Non-integer values were read from the PDB \"resid\" field. Dropping PDB values and assigning new ones.\n",
      "  0%|          | 1/290 [00:00<02:05,  2.31it/s]2021-02-18 12:24:19,653 - moleculekit.readers - WARNING - Non-integer values were read from the PDB \"resid\" field. Dropping PDB values and assigning new ones.\n",
      "  1%|          | 2/290 [00:00<01:48,  2.65it/s]2021-02-18 12:24:19,962 - moleculekit.readers - WARNING - Non-integer values were read from the PDB \"resid\" field. Dropping PDB values and assigning new ones.\n",
      "  1%|          | 3/290 [00:01<01:32,  3.10it/s]2021-02-18 12:24:20,414 - moleculekit.readers - WARNING - Non-integer values were read from the PDB \"resid\" field. Dropping PDB values and assigning new ones.\n",
      "  1%|▏         | 4/290 [00:01<02:22,  2.00it/s]2021-02-18 12:24:21,063 - moleculekit.readers - WARNING - Non-integer values were read from the PDB \"resid\" field. Dropping PDB values and assigning new ones.\n",
      "  2%|▏         | 5/290 [00:02<02:18,  2.05it/s]2021-02-18 12:24:21,465 - moleculekit.readers - WARNING - Non-integer values were read from the PDB \"resid\" field. Dropping PDB values and assigning new ones.\n",
      "  2%|▏         | 6/290 [00:02<01:58,  2.40it/s]2021-02-18 12:24:21,746 - moleculekit.readers - WARNING - Non-integer values were read from the PDB \"resid\" field. Dropping PDB values and assigning new ones.\n",
      "  2%|▏         | 7/290 [00:02<01:44,  2.70it/s]2021-02-18 12:24:21,990 - moleculekit.readers - WARNING - Non-integer values were read from the PDB \"resid\" field. Dropping PDB values and assigning new ones.\n",
      "  3%|▎         | 8/290 [00:03<01:29,  3.16it/s]2021-02-18 12:24:22,572 - moleculekit.readers - WARNING - Non-integer values were read from the PDB \"resid\" field. Dropping PDB values and assigning new ones.\n",
      "  3%|▎         | 8/290 [00:04<02:26,  1.93it/s]\n"
     ]
    },
    {
     "ename": "KeyboardInterrupt",
     "evalue": "",
     "output_type": "error",
     "traceback": [
      "\u001b[0;31m---------------------------------------------------------------------------\u001b[0m",
      "\u001b[0;31mKeyboardInterrupt\u001b[0m                         Traceback (most recent call last)",
      "\u001b[0;32m<ipython-input-7-d91bfb5f1ebb>\u001b[0m in \u001b[0;36m<module>\u001b[0;34m()\u001b[0m\n\u001b[0;32m----> 1\u001b[0;31m \u001b[0mtest_x\u001b[0m\u001b[0;34m,\u001b[0m \u001b[0mtest_y\u001b[0m\u001b[0;34m,\u001b[0m \u001b[0mtrain_x\u001b[0m\u001b[0;34m,\u001b[0m \u001b[0mtrain_y\u001b[0m \u001b[0;34m=\u001b[0m \u001b[0mget_features\u001b[0m\u001b[0;34m(\u001b[0m\u001b[0;34m)\u001b[0m\u001b[0;34m\u001b[0m\u001b[0;34m\u001b[0m\u001b[0m\n\u001b[0m\u001b[1;32m      2\u001b[0m \u001b[0;31m# Split it\u001b[0m\u001b[0;34m\u001b[0m\u001b[0;34m\u001b[0m\u001b[0;34m\u001b[0m\u001b[0m\n\u001b[1;32m      3\u001b[0m \u001b[0mtrain_x\u001b[0m\u001b[0;34m,\u001b[0m \u001b[0mvalid_x\u001b[0m\u001b[0;34m,\u001b[0m \u001b[0mtrain_y\u001b[0m\u001b[0;34m,\u001b[0m \u001b[0mvalid_y\u001b[0m \u001b[0;34m=\u001b[0m \u001b[0mtrain_test_split\u001b[0m\u001b[0;34m(\u001b[0m\u001b[0mtrain_x\u001b[0m\u001b[0;34m,\u001b[0m \u001b[0mtrain_y\u001b[0m\u001b[0;34m,\u001b[0m \u001b[0mtest_size\u001b[0m\u001b[0;34m=\u001b[0m\u001b[0;36m0.2\u001b[0m\u001b[0;34m,\u001b[0m \u001b[0mrandom_state\u001b[0m\u001b[0;34m=\u001b[0m\u001b[0;36m1\u001b[0m\u001b[0;34m)\u001b[0m\u001b[0;34m\u001b[0m\u001b[0;34m\u001b[0m\u001b[0m\n\u001b[1;32m      4\u001b[0m \u001b[0mprint\u001b[0m\u001b[0;34m(\u001b[0m\u001b[0;34m\"Shapes in the training, test and the validation set: \"\u001b[0m\u001b[0;34m,\u001b[0m \u001b[0mtrain_x\u001b[0m\u001b[0;34m.\u001b[0m\u001b[0mshape\u001b[0m\u001b[0;34m,\u001b[0m \u001b[0mtest_x\u001b[0m\u001b[0;34m.\u001b[0m\u001b[0mshape\u001b[0m\u001b[0;34m,\u001b[0m \u001b[0mvalid_x\u001b[0m\u001b[0;34m.\u001b[0m\u001b[0mshape\u001b[0m\u001b[0;34m)\u001b[0m\u001b[0;34m\u001b[0m\u001b[0;34m\u001b[0m\u001b[0m\n\u001b[1;32m      5\u001b[0m \u001b[0;34m\u001b[0m\u001b[0m\n",
      "\u001b[0;32m<ipython-input-6-0c3f4cce9e35>\u001b[0m in \u001b[0;36mget_features\u001b[0;34m()\u001b[0m\n\u001b[1;32m     70\u001b[0m     \u001b[0;31m# Get the features\u001b[0m\u001b[0;34m\u001b[0m\u001b[0;34m\u001b[0m\u001b[0;34m\u001b[0m\u001b[0m\n\u001b[1;32m     71\u001b[0m     \u001b[0mprint\u001b[0m\u001b[0;34m(\u001b[0m\u001b[0;34m\"Extracting features for the core set\"\u001b[0m\u001b[0;34m)\u001b[0m\u001b[0;34m\u001b[0m\u001b[0;34m\u001b[0m\u001b[0m\n\u001b[0;32m---> 72\u001b[0;31m     \u001b[0mcore_x\u001b[0m\u001b[0;34m,\u001b[0m \u001b[0mcore_y\u001b[0m \u001b[0;34m=\u001b[0m \u001b[0mget_pdb_features\u001b[0m\u001b[0;34m(\u001b[0m\u001b[0mcore_ids\u001b[0m\u001b[0;34m,\u001b[0m \u001b[0msets\u001b[0m\u001b[0;34m=\u001b[0m\u001b[0;34m\"core\"\u001b[0m\u001b[0;34m)\u001b[0m\u001b[0;34m\u001b[0m\u001b[0;34m\u001b[0m\u001b[0m\n\u001b[0m\u001b[1;32m     73\u001b[0m     \u001b[0mprint\u001b[0m\u001b[0;34m(\u001b[0m\u001b[0;34m\"Extracting features for the refined set\"\u001b[0m\u001b[0;34m)\u001b[0m\u001b[0;34m\u001b[0m\u001b[0;34m\u001b[0m\u001b[0m\n\u001b[1;32m     74\u001b[0m     \u001b[0mrefined_x\u001b[0m\u001b[0;34m,\u001b[0m \u001b[0mrefined_y\u001b[0m \u001b[0;34m=\u001b[0m \u001b[0mget_pdb_features\u001b[0m\u001b[0;34m(\u001b[0m\u001b[0mrefined_ids\u001b[0m\u001b[0;34m)\u001b[0m\u001b[0;34m\u001b[0m\u001b[0;34m\u001b[0m\u001b[0m\n",
      "\u001b[0;32m<ipython-input-6-0c3f4cce9e35>\u001b[0m in \u001b[0;36mget_pdb_features\u001b[0;34m(ids, sets)\u001b[0m\n\u001b[1;32m     44\u001b[0m \u001b[0;34m\u001b[0m\u001b[0m\n\u001b[1;32m     45\u001b[0m         \u001b[0;32mtry\u001b[0m\u001b[0;34m:\u001b[0m\u001b[0;34m\u001b[0m\u001b[0;34m\u001b[0m\u001b[0m\n\u001b[0;32m---> 46\u001b[0;31m             \u001b[0mfeatures\u001b[0m \u001b[0;34m=\u001b[0m \u001b[0mget_pdb_complex_feature\u001b[0m\u001b[0;34m(\u001b[0m\u001b[0mprotein_file\u001b[0m\u001b[0;34m,\u001b[0m \u001b[0mligand_file\u001b[0m\u001b[0;34m)\u001b[0m\u001b[0;34m\u001b[0m\u001b[0;34m\u001b[0m\u001b[0m\n\u001b[0m\u001b[1;32m     47\u001b[0m         \u001b[0;32mexcept\u001b[0m \u001b[0mException\u001b[0m \u001b[0;32mas\u001b[0m \u001b[0me\u001b[0m\u001b[0;34m:\u001b[0m\u001b[0;34m\u001b[0m\u001b[0;34m\u001b[0m\u001b[0m\n\u001b[1;32m     48\u001b[0m             \u001b[0;31m#print(\"ERROR in \", pdbid , \" \", str(e))\u001b[0m\u001b[0;34m\u001b[0m\u001b[0;34m\u001b[0m\u001b[0;34m\u001b[0m\u001b[0m\n",
      "\u001b[0;32m<ipython-input-6-0c3f4cce9e35>\u001b[0m in \u001b[0;36mget_pdb_complex_feature\u001b[0;34m(protein_file, ligand_file)\u001b[0m\n\u001b[1;32m     27\u001b[0m \u001b[0;34m\u001b[0m\u001b[0m\n\u001b[1;32m     28\u001b[0m     \u001b[0;31m# Get the features for both the protein and the ligand. Return those after concatenation.\u001b[0m\u001b[0;34m\u001b[0m\u001b[0;34m\u001b[0m\u001b[0;34m\u001b[0m\u001b[0m\n\u001b[0;32m---> 29\u001b[0;31m     \u001b[0mprotein_featuers\u001b[0m \u001b[0;34m=\u001b[0m \u001b[0mget_prop\u001b[0m\u001b[0;34m(\u001b[0m\u001b[0mprotein_mol\u001b[0m\u001b[0;34m,\u001b[0m \u001b[0mleft_most_point\u001b[0m\u001b[0;34m)\u001b[0m\u001b[0;34m\u001b[0m\u001b[0;34m\u001b[0m\u001b[0m\n\u001b[0m\u001b[1;32m     30\u001b[0m     \u001b[0mligand_features\u001b[0m \u001b[0;34m=\u001b[0m \u001b[0mget_prop\u001b[0m\u001b[0;34m(\u001b[0m\u001b[0mligand_mol\u001b[0m\u001b[0;34m,\u001b[0m \u001b[0mleft_most_point\u001b[0m\u001b[0;34m)\u001b[0m\u001b[0;34m\u001b[0m\u001b[0;34m\u001b[0m\u001b[0m\n\u001b[1;32m     31\u001b[0m \u001b[0;34m\u001b[0m\u001b[0m\n",
      "\u001b[0;32m<ipython-input-6-0c3f4cce9e35>\u001b[0m in \u001b[0;36mget_prop\u001b[0;34m(mol, left_most_point)\u001b[0m\n\u001b[1;32m     16\u001b[0m \u001b[0;34m\u001b[0m\u001b[0m\n\u001b[1;32m     17\u001b[0m         \u001b[0;31m# Extract the features and return\u001b[0m\u001b[0;34m\u001b[0m\u001b[0;34m\u001b[0m\u001b[0;34m\u001b[0m\u001b[0m\n\u001b[0;32m---> 18\u001b[0;31m         \u001b[0mfeatures\u001b[0m \u001b[0;34m=\u001b[0m \u001b[0mvd\u001b[0m\u001b[0;34m.\u001b[0m\u001b[0m_getOccupancyC\u001b[0m\u001b[0;34m(\u001b[0m\u001b[0mmol\u001b[0m\u001b[0;34m.\u001b[0m\u001b[0mcoords\u001b[0m\u001b[0;34m[\u001b[0m\u001b[0;34m:\u001b[0m\u001b[0;34m,\u001b[0m \u001b[0;34m:\u001b[0m\u001b[0;34m,\u001b[0m \u001b[0mmol\u001b[0m\u001b[0;34m.\u001b[0m\u001b[0mframe\u001b[0m\u001b[0;34m]\u001b[0m\u001b[0;34m,\u001b[0m \u001b[0mcenters\u001b[0m\u001b[0;34m,\u001b[0m \u001b[0mchannels\u001b[0m\u001b[0;34m)\u001b[0m\u001b[0;34m\u001b[0m\u001b[0;34m\u001b[0m\u001b[0m\n\u001b[0m\u001b[1;32m     19\u001b[0m         \u001b[0;32mreturn\u001b[0m \u001b[0mfeatures\u001b[0m\u001b[0;34m.\u001b[0m\u001b[0mreshape\u001b[0m\u001b[0;34m(\u001b[0m\u001b[0;34m*\u001b[0m\u001b[0mn\u001b[0m\u001b[0;34m,\u001b[0m \u001b[0;34m-\u001b[0m\u001b[0;36m1\u001b[0m\u001b[0;34m)\u001b[0m\u001b[0;34m\u001b[0m\u001b[0;34m\u001b[0m\u001b[0m\n\u001b[1;32m     20\u001b[0m \u001b[0;34m\u001b[0m\u001b[0m\n",
      "\u001b[0;32m/Users/abdulsalamyazid/Desktop/Copy/training_with_htmd/htmd/molecule/voxeldescriptors.py\u001b[0m in \u001b[0;36m_getOccupancyC\u001b[0;34m(coords, centers, channelsigmas)\u001b[0m\n\u001b[1;32m    305\u001b[0m                        \u001b[0mctypes\u001b[0m\u001b[0;34m.\u001b[0m\u001b[0mc_int\u001b[0m\u001b[0;34m(\u001b[0m\u001b[0moccus\u001b[0m\u001b[0;34m.\u001b[0m\u001b[0mshape\u001b[0m\u001b[0;34m[\u001b[0m\u001b[0;36m0\u001b[0m\u001b[0;34m]\u001b[0m\u001b[0;34m)\u001b[0m\u001b[0;34m,\u001b[0m  \u001b[0;31m# n of centers\u001b[0m\u001b[0;34m\u001b[0m\u001b[0;34m\u001b[0m\u001b[0m\n\u001b[1;32m    306\u001b[0m                        \u001b[0mctypes\u001b[0m\u001b[0;34m.\u001b[0m\u001b[0mc_int\u001b[0m\u001b[0;34m(\u001b[0m\u001b[0mcoords\u001b[0m\u001b[0;34m.\u001b[0m\u001b[0mshape\u001b[0m\u001b[0;34m[\u001b[0m\u001b[0;36m0\u001b[0m\u001b[0;34m]\u001b[0m\u001b[0;34m)\u001b[0m\u001b[0;34m,\u001b[0m  \u001b[0;31m# n of atoms\u001b[0m\u001b[0;34m\u001b[0m\u001b[0;34m\u001b[0m\u001b[0m\n\u001b[0;32m--> 307\u001b[0;31m                        ctypes.c_int(nchannels))  # n of channels\n\u001b[0m\u001b[1;32m    308\u001b[0m     \u001b[0;32mreturn\u001b[0m \u001b[0moccus\u001b[0m\u001b[0;34m\u001b[0m\u001b[0;34m\u001b[0m\u001b[0m\n\u001b[1;32m    309\u001b[0m \u001b[0;34m\u001b[0m\u001b[0m\n",
      "\u001b[0;31mKeyboardInterrupt\u001b[0m: "
     ]
    }
   ],
   "source": [
    "test_x, test_y, train_x, train_y = get_features()\n",
    "# Split it\n",
    "train_x, valid_x, train_y, valid_y = train_test_split(train_x, train_y, test_size=0.2, random_state=1)\n",
    "print(\"Shapes in the training, test and the validation set: \", train_x.shape, test_x.shape, valid_x.shape)\n",
    "\n",
    "# Save it\n",
    "print(\"Saving the data in data.h5\")\n",
    "h5f = h5py.File(os.path.join(data_dir, \"data.h5\"), 'w')\n",
    "h5f.create_dataset('train_x', data=train_x)\n",
    "h5f.create_dataset('train_y', data=train_y)\n",
    "h5f.create_dataset('valid_x', data=valid_x)\n",
    "h5f.create_dataset('valid_y', data=valid_y)\n",
    "h5f.create_dataset('test_x', data=test_x)\n",
    "h5f.create_dataset('test_y', data=test_y)\n",
    "h5f.close()\n",
    "\n"
   ]
  },
  {
   "cell_type": "code",
   "execution_count": 7,
   "id": "ceramic-provider",
   "metadata": {},
   "outputs": [
    {
     "name": "stdout",
     "output_type": "stream",
     "text": [
      "\u001b[34m__pycache__\u001b[m\u001b[m                \u001b[34mmodels\u001b[m\u001b[m\r\n",
      "creator.ipynb              models.py\r\n",
      "elements.py                partition.json\r\n",
      "feature-extraction-htmd.py \u001b[34mscripts\u001b[m\u001b[m\r\n",
      "\u001b[31mgenerators.py\u001b[m\u001b[m              t.ipynb\r\n",
      "\u001b[34mhtmd\u001b[m\u001b[m                       test.ipynb\r\n",
      "labels.json                train.py\r\n",
      "model_test.ipynb           train2.py\r\n"
     ]
    }
   ],
   "source": [
    "!ls"
   ]
  },
  {
   "cell_type": "code",
   "execution_count": null,
   "id": "minute-centre",
   "metadata": {},
   "outputs": [],
   "source": []
  }
 ],
 "metadata": {
  "kernelspec": {
   "display_name": "Python 3",
   "language": "python",
   "name": "python3"
  },
  "language_info": {
   "codemirror_mode": {
    "name": "ipython",
    "version": 3
   },
   "file_extension": ".py",
   "mimetype": "text/x-python",
   "name": "python",
   "nbconvert_exporter": "python",
   "pygments_lexer": "ipython3",
   "version": "3.6.12"
  }
 },
 "nbformat": 4,
 "nbformat_minor": 5
}
